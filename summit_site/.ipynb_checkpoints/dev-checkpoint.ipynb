{
 "metadata": {
  "name": ""
 },
 "nbformat": 3,
 "nbformat_minor": 0,
 "worksheets": [
  {
   "cells": [
    {
     "cell_type": "code",
     "collapsed": false,
     "input": [
      "from pymongo import MongoClient\n",
      "from summit_app.models import Question, Comment, User, UserProfile\n",
      "from django.utils import timezone"
     ],
     "language": "python",
     "metadata": {},
     "outputs": [],
     "prompt_number": 1
    },
    {
     "cell_type": "code",
     "collapsed": false,
     "input": [
      "#pulling questions from the existing database\n",
      "q = Question.objects.first()\n",
      "u1 = User.objects.filter(username__startswith='niels')[0]\n",
      "u2 = User.objects.filter(username__startswith='lance')[0]\n",
      "print q, u1, u2"
     ],
     "language": "python",
     "metadata": {},
     "outputs": [
      {
       "output_type": "stream",
       "stream": "stdout",
       "text": [
        "how can we improve the way we communicate public health research to a mainstream audience? nielsbantilan lancelegel\n"
       ]
      }
     ],
     "prompt_number": 3
    },
    {
     "cell_type": "code",
     "collapsed": false,
     "input": [
      "#creating a user profile\n",
      "'''\n",
      "profile = UserProfile.objects.create(\n",
      "    user = u1, \n",
      "    occupation='UX/UI/Backend developer', \n",
      "    identity='systems thinker',\n",
      ")\n",
      "\n",
      "profile.save()\n",
      "'''\n"
     ],
     "language": "python",
     "metadata": {},
     "outputs": [],
     "prompt_number": 11
    },
    {
     "cell_type": "code",
     "collapsed": false,
     "input": [
      "#accessing u1's userprofile information\n",
      "u1.userprofile.occupation"
     ],
     "language": "python",
     "metadata": {},
     "outputs": [
      {
       "metadata": {},
       "output_type": "pyout",
       "prompt_number": 15,
       "text": [
        "'UX/UI/Backend developer'"
       ]
      }
     ],
     "prompt_number": 15
    },
    {
     "cell_type": "code",
     "collapsed": false,
     "input": [
      "#Create a new comment\n",
      "'''\n",
      "c = Comment.objects.create(\n",
      "    comment_text = 'Well first we all need to first figure out how to talk about individual and population health',\n",
      "    pub_date = timezone.now(),\n",
      "    author = u2,\n",
      "    parent_question = q,\n",
      "    comment_type = 'C',\n",
      ")\n",
      "\n",
      "c.save()\n",
      "'''"
     ],
     "language": "python",
     "metadata": {},
     "outputs": [],
     "prompt_number": 12
    },
    {
     "cell_type": "code",
     "collapsed": false,
     "input": [
      "c = Comment.objects.all()\n",
      "c"
     ],
     "language": "python",
     "metadata": {},
     "outputs": [
      {
       "metadata": {},
       "output_type": "pyout",
       "prompt_number": 28,
       "text": [
        "[<Comment: Well first we all need to first figure out how to talk about individual and population health>]"
       ]
      }
     ],
     "prompt_number": 28
    },
    {
     "cell_type": "code",
     "collapsed": false,
     "input": [
      "q.comment_set.all()"
     ],
     "language": "python",
     "metadata": {},
     "outputs": [
      {
       "metadata": {},
       "output_type": "pyout",
       "prompt_number": 19,
       "text": [
        "[<Comment: Well first we all need to first figure out how to talk about individual and population health>]"
       ]
      }
     ],
     "prompt_number": 19
    },
    {
     "cell_type": "code",
     "collapsed": false,
     "input": [
      "u1.question_set.all()"
     ],
     "language": "python",
     "metadata": {},
     "outputs": [
      {
       "metadata": {},
       "output_type": "pyout",
       "prompt_number": 23,
       "text": [
        "[<Question: how can we improve the way we communicate public health research to a mainstream audience?>]"
       ]
      }
     ],
     "prompt_number": 23
    },
    {
     "cell_type": "code",
     "collapsed": false,
     "input": [
      "u2.comment_set.all()"
     ],
     "language": "python",
     "metadata": {},
     "outputs": [
      {
       "metadata": {},
       "output_type": "pyout",
       "prompt_number": 25,
       "text": [
        "[<Comment: Well first we all need to first figure out how to talk about individual and population health>]"
       ]
      }
     ],
     "prompt_number": 25
    }
   ],
   "metadata": {}
  }
 ]
}